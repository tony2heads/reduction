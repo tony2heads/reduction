{
 "cells": [
  {
   "cell_type": "code",
   "execution_count": 204,
   "metadata": {
    "collapsed": false
   },
   "outputs": [
    {
     "name": "stdout",
     "output_type": "stream",
     "text": [
      "====================M063=============\n",
      "offset between data and activity timestamps is  8.6157913208\n",
      "offset between data and elev timestamps is  0.956299304962\n",
      "offset between data and azim timestamps is  0.446449279785\n",
      "====================M062=============\n",
      "no m062\n"
     ]
    }
   ],
   "source": [
    "# %load timecheck.py\n",
    "#!/usr/bin/env python\n",
    "\n",
    "import sys\n",
    "import h5py\n",
    "#filename=\"/var/kat/archive/data/RTS/telescope_products/2015/07/27/1437985794.h5\"\n",
    "#filename=\"/var/kat/archive/data/RTS/telescope_products/2015/07/03/1435921279.h5\"\n",
    "#filename=\"/var/kat/archive/data/RTS/telescope_products/2015/07/12/1436668158.h5\"\n",
    "#filename='/var/kat/archive/data/RTS/telescope_products/2015/07/12/1436713314.h5'\n",
    "#filename='/var/kat/archive/data/RTS/telescope_products/2015/07/21/1437503680.h5'\n",
    "filename='/var/kat/archive/data/RTS/telescope_products/2015/07/28/1438117396.h5'\n",
    "#filename=sys.argv[1]\n",
    "raw_h5 = h5py.File(filename, 'r')\n",
    "print \"====================M063=============\"\n",
    "\"\"\"\n",
    " for m063\n",
    "\"\"\"\n",
    "try: \n",
    "    corr_timestamps = raw_h5['Data/timestamps'].value\n",
    "    activity = raw_h5['TelescopeModel/m063/activity'].value\n",
    "    azim = raw_h5['TelescopeModel/m063/pos_actual_scan_azim'].value\n",
    "    elev = raw_h5['TelescopeModel/m063/pos_actual_scan_elev'].value\n",
    "    print 'offset between data and activity timestamps is ', corr_timestamps[0]-activity['timestamp'][0]\n",
    "    print 'offset between data and elev timestamps is ', corr_timestamps[0]-elev['timestamp'][0]\n",
    "    print 'offset between data and azim timestamps is ', corr_timestamps[0]-azim['timestamp'][0]\n",
    "except:\n",
    "    print \"no m063\"\n",
    "\n",
    "\n",
    "print \"====================M062=============\"\n",
    "\n",
    "\"\"\"\n",
    " for m062\n",
    "\"\"\"\n",
    "try: \n",
    "    activity = raw_h5['TelescopeModel/m062/activity'].value\n",
    "    azim = raw_h5['TelescopeModel/m062/pos_actual_scan_azim'].value\n",
    "    elev = raw_h5['TelescopeModel/m062/pos_actual_scan_elev'].value\n",
    "    print 'offset between data and activity timestamps is ', corr_timestamps[0]-activity['timestamp'][0]\n",
    "    print 'offset between data and elev timestamps is ', corr_timestamps[0]-elev['timestamp'][0]\n",
    "    print 'offset between data and azim timestamps is ', corr_timestamps[0]-azim['timestamp'][0]\n",
    "except:\n",
    "    print \"no m062\""
   ]
  },
  {
   "cell_type": "code",
   "execution_count": 205,
   "metadata": {
    "collapsed": false
   },
   "outputs": [
    {
     "name": "stdout",
     "output_type": "stream",
     "text": [
      "0.0 0.999577045441\n",
      "-0.956299304962 -0.446449279785\n",
      "-0.446449279785 0.0535507202148\n"
     ]
    }
   ],
   "source": [
    "t= corr_timestamps[0]\n",
    "print corr_timestamps[0] -t , corr_timestamps[1]-t\n",
    "\n",
    "print elev['timestamp'][0]-t , elev['timestamp'][1]-t \n",
    "print azim['timestamp'][0]-t , azim['timestamp'][1]-t"
   ]
  },
  {
   "cell_type": "code",
   "execution_count": 206,
   "metadata": {
    "collapsed": false
   },
   "outputs": [
    {
     "name": "stdout",
     "output_type": "stream",
     "text": [
      "-8.6157913208 20.1064577103\n"
     ]
    }
   ],
   "source": [
    "print activity['timestamp'][0]-t , activity['timestamp'][1]-t "
   ]
  },
  {
   "cell_type": "code",
   "execution_count": 207,
   "metadata": {
    "collapsed": false
   },
   "outputs": [],
   "source": [
    "import time\n"
   ]
  },
  {
   "cell_type": "code",
   "execution_count": 208,
   "metadata": {
    "collapsed": false
   },
   "outputs": [
    {
     "name": "stdout",
     "output_type": "stream",
     "text": [
      "offset between data and elev timestamps is  1.44602632523\n"
     ]
    }
   ],
   "source": [
    "print 'offset between data and elev timestamps is ', corr_timestamps[1]-elev['timestamp'][1]"
   ]
  },
  {
   "cell_type": "code",
   "execution_count": 209,
   "metadata": {
    "collapsed": false
   },
   "outputs": [
    {
     "name": "stdout",
     "output_type": "stream",
     "text": [
      "  8.616   0.956   0.446\n",
      "-20.106   0.446  -0.054\n",
      "-21.784  -0.054  -0.563\n",
      "-21.796  -1.063  -1.063\n",
      "-79.327  -1.573  -1.573\n",
      "-79.329  -2.078  -2.078\n",
      "-80.487  -3.088  -2.588\n",
      "-110.542  -3.598  -3.088\n",
      "-111.257  -4.103  -3.598\n",
      "-116.232  -5.108  -4.103\n"
     ]
    }
   ],
   "source": [
    "for n in range(10):\n",
    "    print \"%7.3f %7.3f %7.3f\" % (t- activity['timestamp'][n], t-elev['timestamp'][n], t-azim['timestamp'][n])"
   ]
  },
  {
   "cell_type": "code",
   "execution_count": 210,
   "metadata": {
    "collapsed": false
   },
   "outputs": [
    {
     "name": "stdout",
     "output_type": "stream",
     "text": [
      "20.1064577103\n"
     ]
    }
   ],
   "source": [
    "print  activity['timestamp'][1] -corr_timestamps[0]"
   ]
  },
  {
   "cell_type": "code",
   "execution_count": null,
   "metadata": {
    "collapsed": true
   },
   "outputs": [],
   "source": []
  },
  {
   "cell_type": "code",
   "execution_count": null,
   "metadata": {
    "collapsed": true
   },
   "outputs": [],
   "source": []
  }
 ],
 "metadata": {},
 "nbformat": 4,
 "nbformat_minor": 0
}
