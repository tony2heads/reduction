{
 "metadata": {
  "name": "RTStest"
 },
 "nbformat": 3,
 "nbformat_minor": 0,
 "worksheets": [
  {
   "cells": [
    {
     "cell_type": "code",
     "collapsed": false,
     "input": [
      "#!/usr/bin/env python\n",
      "import katdal\n",
      "import sys\n",
      "import matplotlib\n",
      "import matplotlib.pylab as pylab\n",
      "import numpy\n",
      "\n",
      "filename=\"/var/kat/archive/data/RTS/telescope_products/2015/07/12/1436713314.h5\"\n",
      "h5=katdal.open(filename,refant='m063')\n",
      "\n"
     ],
     "language": "python",
     "metadata": {},
     "outputs": [
      {
       "output_type": "stream",
       "stream": "stderr",
       "text": [
        "WARNING:katdal.dataset:Extending flux density model frequency range of '3C286' from 1408-43200 MHz to 855-43200 MHz\n"
       ]
      }
     ],
     "prompt_number": 23
    },
    {
     "cell_type": "code",
     "collapsed": false,
     "input": [
      "for nn in h5.catalogue.targets:\n",
      "    print nn.name\n",
      "print len(h5.scan_indices), \"Scans\"\n",
      "print \"antennas\",h5.inputs\n",
      "print \"min elevation\",h5.el.min()\n",
      "print \"max elevation\",h5.el.max()\n",
      "print \"dump period\",h5.dump_period\n",
      "print \"band\",h5.channel_freqs.min()/1e9,\"to\",h5.channel_freqs.max()/1e9,\"GHz\"\n",
      "print \"start\",h5.start_time.local(),\"end\",h5.end_time.local(),\\\n",
      "\"duration\",(h5.end_time-h5.start_time)/3600,\"hrs\"\n"
     ],
     "language": "python",
     "metadata": {},
     "outputs": [
      {
       "output_type": "stream",
       "stream": "stdout",
       "text": [
        "0637-752\n",
        "0727-115\n",
        "0823+033\n",
        "1055+018\n",
        "1057-797\n",
        "1127-145\n",
        "J1152-0841\n",
        "3C273\n",
        "3C279\n",
        "1322-427\n",
        "3C286\n",
        "1334-127\n",
        "CenB\n",
        "1421-490\n",
        "1424-418\n",
        "1510-089\n",
        "1514-241\n",
        "1548+056\n",
        "1613-586\n",
        "1622-253\n",
        "1657-261\n",
        "1718-649\n",
        "1730-130\n",
        "1741-038\n",
        "1749+096\n",
        "1824-582\n",
        "1830-210\n",
        "1908-201\n",
        "1920-211\n",
        "1921-293\n",
        "1954-388\n",
        "1958-179\n",
        "2052-474\n",
        "2153-699\n",
        "2128-123\n",
        "2131-021\n",
        "2134+004\n",
        "2145+067\n",
        "2155-152\n",
        "2203-188\n",
        "0003-066\n",
        "2223-052\n",
        "3C446\n",
        "CTA102\n",
        "0208-512\n",
        "3C454.3\n",
        "2255-282\n",
        "2355-534\n",
        "0130-171\n",
        "0252-549\n",
        "806 Scans\n",
        "antennas ['m062h', 'm062v', 'm063h', 'm063v']\n",
        "min elevation "
       ]
      },
      {
       "output_type": "stream",
       "stream": "stdout",
       "text": [
        "22.6806623806\n",
        "max elevation 92.4308342245\n",
        "dump period 0.999577121495\n",
        "band 0.856 to 1.71179101563 GHz\n",
        "start 2015-07-12 17:01:55.152 SAST end 2015-07-13 02:13:32.150 SAST duration 9.19361057493 hrs\n"
       ]
      }
     ],
     "prompt_number": 24
    },
    {
     "cell_type": "code",
     "collapsed": false,
     "input": [],
     "language": "python",
     "metadata": {},
     "outputs": [],
     "prompt_number": 24
    },
    {
     "cell_type": "code",
     "collapsed": false,
     "input": [
      "t=h5.compscans()"
     ],
     "language": "python",
     "metadata": {},
     "outputs": [],
     "prompt_number": 25
    },
    {
     "cell_type": "code",
     "collapsed": false,
     "input": [
      "t.next()\n",
      "dd=t.send(12)"
     ],
     "language": "python",
     "metadata": {},
     "outputs": [],
     "prompt_number": 26
    },
    {
     "cell_type": "code",
     "collapsed": false,
     "input": [
      "tt= h5.vis[5]\n",
      "frq=h5.channel_freqs\n",
      "print len(frq)"
     ],
     "language": "python",
     "metadata": {},
     "outputs": [
      {
       "output_type": "stream",
       "stream": "stdout",
       "text": [
        "4096\n"
       ]
      }
     ],
     "prompt_number": 27
    },
    {
     "cell_type": "code",
     "collapsed": false,
     "input": [
      "amp=abs(tt)\n",
      "#fla=tt.flatten(axis=0)\n",
      "sw=abs(tt.swapaxes(1,2))\n",
      "print sw.shape\n",
      "print len(amp[0][0])"
     ],
     "language": "python",
     "metadata": {},
     "outputs": [
      {
       "output_type": "stream",
       "stream": "stdout",
       "text": [
        "(1, 12, 4096)\n",
        "12\n"
       ]
      }
     ],
     "prompt_number": 28
    },
    {
     "cell_type": "code",
     "collapsed": false,
     "input": [
      "for n in range(len(amp[0][0])):\n",
      "    c=[.5,1-0.1*n,0.05*n]\n",
      "    pylab.scatter(frq,sw[0][n],label=n)\n",
      "    pylab.ylim(0,2500)\n",
      "pylab.xlabel('Frequency')\n",
      "pylab.ylabel('Amp')\n",
      "pylab.legend()\n",
      "pylab.show()"
     ],
     "language": "python",
     "metadata": {},
     "outputs": [],
     "prompt_number": 29
    },
    {
     "cell_type": "code",
     "collapsed": false,
     "input": [
      "print len(h5.catalogue.targets) , len(dd)"
     ],
     "language": "python",
     "metadata": {},
     "outputs": [
      {
       "output_type": "stream",
       "stream": "stdout",
       "text": [
        "50 3\n"
       ]
      }
     ],
     "prompt_number": 30
    },
    {
     "cell_type": "code",
     "collapsed": false,
     "input": [
      "x=numpy.median(sw,axis=2)\n",
      "print x"
     ],
     "language": "python",
     "metadata": {},
     "outputs": [
      {
       "output_type": "stream",
       "stream": "stdout",
       "text": [
        "[[ 1514.23999023  1296.77587891    73.04597473    73.04597473\n",
        "      3.10312033     1.58540154     1.68624544     1.63760149\n",
        "    764.05505371   727.37402344    25.5954113     25.5954113 ]]\n"
       ]
      }
     ],
     "prompt_number": 31
    },
    {
     "cell_type": "code",
     "collapsed": false,
     "input": [
      "y=numpy.mean(sw,axis=2)\n",
      "print y"
     ],
     "language": "python",
     "metadata": {},
     "outputs": [
      {
       "output_type": "stream",
       "stream": "stdout",
       "text": [
        "[[ 1438.09228516  1258.01196289    74.61722565    74.61722565     5.8642745\n",
        "      4.27140141     4.41215563     4.36997461   714.27661133\n",
        "    662.12115479    28.55033493    28.55033493]]\n"
       ]
      }
     ],
     "prompt_number": 32
    },
    {
     "cell_type": "code",
     "collapsed": false,
     "input": [],
     "language": "python",
     "metadata": {},
     "outputs": [],
     "prompt_number": 32
    },
    {
     "cell_type": "code",
     "collapsed": false,
     "input": [],
     "language": "python",
     "metadata": {},
     "outputs": [],
     "prompt_number": 32
    },
    {
     "cell_type": "code",
     "collapsed": false,
     "input": [],
     "language": "python",
     "metadata": {},
     "outputs": [],
     "prompt_number": 32
    },
    {
     "cell_type": "code",
     "collapsed": false,
     "input": [],
     "language": "python",
     "metadata": {},
     "outputs": [],
     "prompt_number": 32
    },
    {
     "cell_type": "code",
     "collapsed": false,
     "input": [
      "print h5.vis.shape"
     ],
     "language": "python",
     "metadata": {},
     "outputs": [
      {
       "output_type": "stream",
       "stream": "stdout",
       "text": [
        "(410, 4096, 12)\n"
       ]
      }
     ],
     "prompt_number": 33
    },
    {
     "cell_type": "code",
     "collapsed": false,
     "input": [
      "#print h5.vis[1223,2123]"
     ],
     "language": "python",
     "metadata": {},
     "outputs": [],
     "prompt_number": 34
    },
    {
     "cell_type": "code",
     "collapsed": false,
     "input": [
      "autocc=h5.vis[:,:,0]\n",
      "auto= numpy.squeeze(autocc,axis=2)\n",
      "print auto.shape"
     ],
     "language": "python",
     "metadata": {},
     "outputs": [
      {
       "output_type": "stream",
       "stream": "stdout",
       "text": [
        "(410, 4096)\n"
       ]
      }
     ],
     "prompt_number": 35
    },
    {
     "cell_type": "code",
     "collapsed": false,
     "input": [
      "print autocc.shape, auto.shape\n"
     ],
     "language": "python",
     "metadata": {},
     "outputs": [
      {
       "output_type": "stream",
       "stream": "stdout",
       "text": [
        "(410, 4096, 1) (410, 4096)\n"
       ]
      }
     ],
     "prompt_number": 36
    },
    {
     "cell_type": "code",
     "collapsed": false,
     "input": [
      "len(auto)"
     ],
     "language": "python",
     "metadata": {},
     "outputs": [
      {
       "output_type": "pyout",
       "prompt_number": 37,
       "text": [
        "410"
       ]
      }
     ],
     "prompt_number": 37
    },
    {
     "cell_type": "code",
     "collapsed": false,
     "input": [
      "#for x  in range(len(auto)):\n",
      "#    print numpy.median(auto[x])"
     ],
     "language": "python",
     "metadata": {},
     "outputs": [],
     "prompt_number": 38
    },
    {
     "cell_type": "code",
     "collapsed": false,
     "input": [
      "nt=len(auto) # number of times\n",
      "print nt\n",
      "meds=numpy.ones(nt)\n",
      "t=numpy.ones(nt)\n",
      "for times in range(nt):\n",
      "    t[times]=times\n",
      "    meds[times]=abs(numpy.median(auto[times]))\n",
      "#print range(len(auto))\n",
      "pylab.xlim(0,nt)\n",
      "pylab.scatter(t,meds)\n",
      "pylab.show()"
     ],
     "language": "python",
     "metadata": {},
     "outputs": [
      {
       "output_type": "stream",
       "stream": "stdout",
       "text": [
        "410\n"
       ]
      }
     ],
     "prompt_number": 39
    },
    {
     "cell_type": "code",
     "collapsed": false,
     "input": [],
     "language": "python",
     "metadata": {},
     "outputs": [],
     "prompt_number": 39
    }
   ],
   "metadata": {}
  }
 ]
}