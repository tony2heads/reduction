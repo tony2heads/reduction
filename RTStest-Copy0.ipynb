{
 "metadata": {
  "name": "RTStest-Copy0"
 },
 "nbformat": 3,
 "nbformat_minor": 0,
 "worksheets": [
  {
   "cells": [
    {
     "cell_type": "code",
     "collapsed": false,
     "input": [
      "#!/usr/bin/env python\n",
      "import katdal\n",
      "import sys\n",
      "import matplotlib\n",
      "import matplotlib.pylab as pylab\n",
      "import numpy\n",
      "\n",
      "\n",
      "filename=\"/var/kat/archive/data/RTS/telescope_products/2015/04/30/1430376490.h5\"\n",
      "h5=katdal.open(filename,refant='m063')\n",
      "\n"
     ],
     "language": "python",
     "metadata": {},
     "outputs": [],
     "prompt_number": 21
    },
    {
     "cell_type": "code",
     "collapsed": false,
     "input": [
      "for nn in h5.catalogue.targets:\n",
      "    print nn.name\n",
      "print len(h5.scan_indices), \"Scans\"\n",
      "print \"antennas\",h5.inputs\n",
      "print \"min elevation\",max(h5.el)\n",
      "print \"max elevation\",min(h5.el)\n",
      "print \"dump period\",h5.dump_period # seconds?\n",
      "print \"band\",h5.channel_freqs.min()/1e9,\"to\",h5.channel_freqs.max()/1e9,\"GHz\"\n",
      "print \"start\",h5.start_time.local(),\"end\",h5.end_time.local(),\\\n",
      "\"duration\",(h5.end_time-h5.start_time)/3600,\"hrs\"\n"
     ],
     "language": "python",
     "metadata": {},
     "outputs": [
      {
       "output_type": "stream",
       "stream": "stdout",
       "text": [
        "Nothing\n",
        "For A\n",
        "Pic A\n",
        "121 Scans\n",
        "antennas ['m063h', 'm063v']\n",
        "min elevation [ 90.00061395]\n",
        "max elevation [ 19.46944421]\n",
        "dump period 0.999577121495\n",
        "band 0.856 to 1.71179101563 GHz\n",
        "start 2015-04-30 08:48:11.816 SAST end 2015-04-30 09:31:42.711 SAST duration 0.725248733693 hrs\n"
       ]
      }
     ],
     "prompt_number": 22
    },
    {
     "cell_type": "code",
     "collapsed": false,
     "input": [
      "print h5.obs_params"
     ],
     "language": "python",
     "metadata": {},
     "outputs": [
      {
       "output_type": "stream",
       "stream": "stdout",
       "text": [
        "{'projection': 'zenithal-equidistant', 'observer': 'RTS', 'dbe_centre_freq': None, 'skip_catalogue': None, 'script_name': '/home/kat/RTS/2.7-Pointing/offset_test_scan.py', 'script_arguments': '/home/kat/RTS/sources_pnt_L.csv -r 1 -n coupler,10,10,180 --description=RTS: 2.7 Pointing Offset --stow-when-done --proposal-id=COMM-RTS --stow-when-done --product=c856M4k --sb-id-code=20150430-0002 --description=RTS: 2.7.1 Pointing --observer=RTS', 'min_time': -1.0, 'program_block_id': '', 'number_sources': 2, 'sb_id_code': '20150430-0002', 'centre_freq': 1822.0, 'dry_run': False, 'description': 'RTS: 2.7.1 Pointing', 'scan_in_elevation': False, 'reduction_name': None, 'nd_params': {'on': 10, 'diode': 'coupler', 'off': 10, 'period': 180}, 'proposal_id': 'COMM-RTS', 'no_mask': False, 'product': 'c856M4k', 'horizon': 5.0, 'source_strength': 'auto', 'stow_when_done': True, 'no_delays': False, 'offset': 7.0, 'dump_rate': 1.0, 'reduction_arguments': None, 'mode': None, 'experiment_id': '20150430-0002', 'quick': False}\n"
       ]
      }
     ],
     "prompt_number": 23
    },
    {
     "cell_type": "code",
     "collapsed": false,
     "input": [
      "print h5.scan_indices\n",
      "print len(h5.timestamps)\n",
      "print h5.timestamps-h5.timestamps[0]"
     ],
     "language": "python",
     "metadata": {},
     "outputs": [
      {
       "output_type": "stream",
       "stream": "stdout",
       "text": [
        "[0, 1, 2, 3, 4, 5, 6, 7, 8, 9, 10, 11, 12, 13, 14, 15, 16, 17, 18, 19, 20, 21, 22, 23, 24, 25, 26, 27, 28, 29, 30, 31, 32, 33, 34, 35, 36, 37, 38, 39, 40, 41, 42, 43, 44, 45, 46, 47, 48, 49, 50, 51, 52, 53, 54, 55, 56, 57, 58, 59, 60, 61, 62, 63, 64, 65, 66, 67, 68, 69, 70, 71, 72, 73, 74, 75, 76, 77, 78, 79, 80, 81, 82, 83, 84, 85, 86, 87, 88, 89, 90, 91, 92, 93, 94, 95, 96, 97, 98, 99, 100, 101, 102, 103, 104, 105, 106, 107, 108, 109, 110, 111, 112, 113, 114, 115, 116, 117, 118, 119, 120]\n",
        "2612\n",
        "[  0.00000000e+00   9.99577045e-01   1.99915433e+00 ...,   2.60789671e+03\n",
        "   2.60889629e+03   2.60989586e+03]\n"
       ]
      }
     ],
     "prompt_number": 24
    },
    {
     "cell_type": "code",
     "collapsed": false,
     "input": [
      "print h5.compscan_indices\n",
      "print h5.sensor.keys()"
     ],
     "language": "python",
     "metadata": {},
     "outputs": [
      {
       "output_type": "stream",
       "stream": "stdout",
       "text": [
        "[0, 1, 2, 3, 4, 5, 6, 7, 8, 9, 10, 11]\n",
        "['Observation/compscan_index', 'Observation/subarray_index', u'Enviro/air_temperature', 'Observation/scan_index', u'Antennas/m063/target', u'Antennas/m063/dig_noise_diode', 'Observation/spw_index', 'Observation/target', u'CorrelatorBeamformer/target', u'CorrelatorBeamformer/auto_delay', 'Observation/target_index', u'Antennas/m063/pos_request_scan_elev', u'Antennas/m063/pos_request_scan_azim', u'Observation/label', u'Observation/params', u'Enviro/air_pressure', u'Antennas/m063/pos_actual_scan_elev', 'Antennas/m063/antenna', 'Observation/subarray', u'Enviro/wind_speed', 'Observation/scan_state', u'Enviro/air_relative_humidity', 'Observation/spw', u'Antennas/m063/activity', u'Antennas/m063/pos_actual_scan_azim', u'Enviro/wind_direction', u'Observation/script_log', 'Antennas/m063/el']\n"
       ]
      }
     ],
     "prompt_number": 25
    },
    {
     "cell_type": "code",
     "collapsed": false,
     "input": [
      "t=h5.compscans()\n",
      "t.next()\n",
      "dd=t.send(1)\n",
      "print len(h5.catalogue.targets) , len(dd)"
     ],
     "language": "python",
     "metadata": {},
     "outputs": [
      {
       "output_type": "stream",
       "stream": "stdout",
       "text": [
        "3 3\n"
       ]
      }
     ],
     "prompt_number": 26
    },
    {
     "cell_type": "code",
     "collapsed": false,
     "input": [
      "\n",
      "frq=h5.channel_freqs\n",
      "print len(frq)"
     ],
     "language": "python",
     "metadata": {},
     "outputs": [
      {
       "output_type": "stream",
       "stream": "stdout",
       "text": [
        "4096\n"
       ]
      }
     ],
     "prompt_number": 27
    },
    {
     "cell_type": "code",
     "collapsed": false,
     "input": [
      "tt=h5.vis[85] # pick one of the scans\n",
      "amp=abs(tt)\n",
      "#fla=tt.flatten(axis=0)\n",
      "sw=abs(tt.swapaxes(1,2))\n",
      "print sw.shape\n",
      "print len(amp[0][0])"
     ],
     "language": "python",
     "metadata": {},
     "outputs": [
      {
       "output_type": "stream",
       "stream": "stdout",
       "text": [
        "(1, 4, 4096)\n",
        "4\n"
       ]
      }
     ],
     "prompt_number": 28
    },
    {
     "cell_type": "code",
     "collapsed": false,
     "input": [
      "for n in range(len(amp[0][0])):\n",
      "    c=[.5,1-0.1*n,0.05*n]\n",
      "    pylab.scatter(frq,sw[0][n],label=n,color=c)\n",
      "    pylab.ylim(0,500)\n",
      "pylab.xlabel('Frequency')\n",
      "pylab.ylabel('Amp')\n",
      "pylab.legend()\n",
      "pylab.show()"
     ],
     "language": "python",
     "metadata": {},
     "outputs": [],
     "prompt_number": 29
    },
    {
     "cell_type": "code",
     "collapsed": false,
     "input": [
      "t.next()\n",
      "dd=t.send(4)\n",
      "print len(h5.catalogue.targets) , len(dd)"
     ],
     "language": "python",
     "metadata": {},
     "outputs": [
      {
       "output_type": "stream",
       "stream": "stdout",
       "text": [
        "3 3\n"
       ]
      }
     ],
     "prompt_number": 30
    },
    {
     "cell_type": "code",
     "collapsed": false,
     "input": [
      "x=numpy.median(sw,axis=2)\n",
      "print x"
     ],
     "language": "python",
     "metadata": {},
     "outputs": [
      {
       "output_type": "stream",
       "stream": "stdout",
       "text": [
        "[[ 135.40710449  115.57832336    0.91012204    0.91012204]]\n"
       ]
      }
     ],
     "prompt_number": 31
    },
    {
     "cell_type": "code",
     "collapsed": false,
     "input": [
      "y=numpy.mean(sw,axis=2)\n",
      "print y"
     ],
     "language": "python",
     "metadata": {},
     "outputs": [
      {
       "output_type": "stream",
       "stream": "stdout",
       "text": [
        "[[ 145.63392639  172.21903992   29.63524437   29.63524437]]\n"
       ]
      }
     ],
     "prompt_number": 32
    },
    {
     "cell_type": "code",
     "collapsed": false,
     "input": [],
     "language": "python",
     "metadata": {},
     "outputs": [],
     "prompt_number": 32
    },
    {
     "cell_type": "code",
     "collapsed": false,
     "input": [
      "print h5.vis.shape"
     ],
     "language": "python",
     "metadata": {},
     "outputs": [
      {
       "output_type": "stream",
       "stream": "stdout",
       "text": [
        "(210, 4096, 4)\n"
       ]
      }
     ],
     "prompt_number": 33
    },
    {
     "cell_type": "code",
     "collapsed": false,
     "input": [
      "#print h5.vis[1223,2123]"
     ],
     "language": "python",
     "metadata": {},
     "outputs": [],
     "prompt_number": 34
    },
    {
     "cell_type": "code",
     "collapsed": false,
     "input": [
      "autocc=h5.vis[:,:,0]\n",
      "auto= numpy.squeeze(autocc,axis=2)\n",
      "print auto.shape"
     ],
     "language": "python",
     "metadata": {},
     "outputs": [
      {
       "output_type": "stream",
       "stream": "stdout",
       "text": [
        "(210, 4096)\n"
       ]
      }
     ],
     "prompt_number": 35
    },
    {
     "cell_type": "code",
     "collapsed": false,
     "input": [
      "print autocc.shape, auto.shape\n"
     ],
     "language": "python",
     "metadata": {},
     "outputs": [
      {
       "output_type": "stream",
       "stream": "stdout",
       "text": [
        "(210, 4096, 1) (210, 4096)\n"
       ]
      }
     ],
     "prompt_number": 36
    },
    {
     "cell_type": "code",
     "collapsed": false,
     "input": [
      "len(auto)"
     ],
     "language": "python",
     "metadata": {},
     "outputs": [
      {
       "output_type": "pyout",
       "prompt_number": 37,
       "text": [
        "210"
       ]
      }
     ],
     "prompt_number": 37
    },
    {
     "cell_type": "code",
     "collapsed": false,
     "input": [
      "#for x  in range(len(auto)):\n",
      "#    print numpy.median(auto[x])"
     ],
     "language": "python",
     "metadata": {},
     "outputs": [],
     "prompt_number": 38
    },
    {
     "cell_type": "code",
     "collapsed": false,
     "input": [
      "nt=len(auto) # number of times\n",
      "print nt\n",
      "meds=numpy.ones(nt)\n",
      "t=numpy.ones(nt)\n",
      "for times in range(nt):\n",
      "    t[times]=times\n",
      "    meds[times]=abs(numpy.median(auto[times]))\n",
      "#print range(len(auto))\n",
      "pylab.xlim(0,nt)\n",
      "pylab.scatter(t,meds)\n",
      "pylab.show()"
     ],
     "language": "python",
     "metadata": {},
     "outputs": [
      {
       "output_type": "stream",
       "stream": "stdout",
       "text": [
        "210\n"
       ]
      }
     ],
     "prompt_number": 39
    },
    {
     "cell_type": "code",
     "collapsed": false,
     "input": [
      "\n"
     ],
     "language": "python",
     "metadata": {},
     "outputs": [],
     "prompt_number": 39
    },
    {
     "cell_type": "code",
     "collapsed": false,
     "input": [],
     "language": "python",
     "metadata": {},
     "outputs": [],
     "prompt_number": 39
    },
    {
     "cell_type": "code",
     "collapsed": false,
     "input": [],
     "language": "python",
     "metadata": {},
     "outputs": [],
     "prompt_number": 39
    }
   ],
   "metadata": {}
  }
 ]
}